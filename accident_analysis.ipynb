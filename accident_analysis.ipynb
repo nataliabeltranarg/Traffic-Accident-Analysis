{
 "cells": [
  {
   "cell_type": "markdown",
   "metadata": {},
   "source": [
    "# Data Analysis of Accidents in the USA\n",
    "## by Maëlys, Natalia, Miguel"
   ]
  },
  {
   "cell_type": "markdown",
   "metadata": {},
   "source": [
    "### Import Libraries"
   ]
  },
  {
   "cell_type": "code",
   "execution_count": 1,
   "metadata": {},
   "outputs": [],
   "source": [
    "from dataanalysis.load import loading, splitting\n",
    "from dataanalysis.preprocessing import missingvalues, outliertreatment, standardization, timedata\n",
    "from dataanalysis.model import rfmodel\n",
    "from dataanalysis.metrics import metrics\n",
    "from dataanalysis.features import categoricalfeatures, heatfeatures, roadfeatures, statefeatures, timefeatures"
   ]
  },
  {
   "cell_type": "markdown",
   "metadata": {},
   "source": [
    "### Load Data"
   ]
  },
  {
   "cell_type": "code",
   "execution_count": 2,
   "metadata": {},
   "outputs": [],
   "source": [
    "# TARGET: predict severity of accident\n",
    "data_path = './US_Accidents_March23_sample.csv'\n",
    "df = loading.load_data(data_path)"
   ]
  },
  {
   "cell_type": "markdown",
   "metadata": {},
   "source": [
    "### Preprocessing\n",
    "\n",
    "1. remove NaN rows \n",
    "2. fill NaN with mean\n",
    "3. binary \n",
    "4. outliers: winsorizing\n",
    "5. (standardizing but this will done after feature engineering)"
   ]
  },
  {
   "cell_type": "code",
   "execution_count": 3,
   "metadata": {},
   "outputs": [],
   "source": [
    "# handle missing values\n",
    "df = missingvalues.drop_row_na(df, ['Temperature(F)', 'Humidity(%)', 'Pressure(in)',\n",
    "                          'Visibility(mi)', 'Wind_Direction', 'Wind_Speed(mph)', 'Precipitation(in)'])\n",
    "df = missingvalues.fill_na_mean(df, ['Wind_Chill(F)', 'Precipitation(in)']) \n",
    "\n",
    "# binary dummy variable \n",
    "df = categoricalfeatures.binary_var(df, ['Sunrise_Sunset', 'Civil_Twilight', 'Nautical_Twilight', 'Astronomical_Twilight'])\n",
    "\n",
    "# winsorize\n",
    "df = outliertreatment.winsorize(df, 'Wind_Speed(mph)') "
   ]
  },
  {
   "cell_type": "markdown",
   "metadata": {},
   "source": [
    "### Features (minimum 5)\n",
    "\n",
    "1. states **categorized** by region \n",
    "1. wind speed is **binned** in low, medium, high\n",
    "1. heat index **calculation** based on math formulas and conditions \n",
    "1. farenheit to celsius **conversion** to understand the values better\n",
    "1. length of an accident by **subtracting** datetime formats and **converting** to hours\n",
    "1. month of accident by **extracting** value from datetime format\n",
    "1. **sum** of roadway features"
   ]
  },
  {
   "cell_type": "code",
   "execution_count": 4,
   "metadata": {},
   "outputs": [],
   "source": [
    "####### REGION: States have been transformed to a Region columns\n",
    "####### categorization technique\n",
    "\n",
    "### slight issue: \n",
    "df = statefeatures.state_to_region(df, 'State') \n",
    "df[['State', 'Region']].tail(5)\n",
    "\n",
    "# one hot encoding\n",
    "df = categoricalfeatures.one_hot_encoding(df, ['Region'])"
   ]
  },
  {
   "cell_type": "code",
   "execution_count": 5,
   "metadata": {},
   "outputs": [],
   "source": [
    "####### BINNING WIND SPEED: continuous to categorical variable\n",
    "####### binning technique\n",
    "\n",
    "bins = [-1, 3, 7, 30]\n",
    "labels = ['low', 'medium', 'high']\n",
    "df = categoricalfeatures.binning(df, 'Wind_Speed(mph)', bins, labels)\n",
    "\n",
    "# one hot encoding\n",
    "df = categoricalfeatures.one_hot_encoding(df, ['Wind_Speed(mph)bin'])"
   ]
  },
  {
   "cell_type": "code",
   "execution_count": 6,
   "metadata": {},
   "outputs": [],
   "source": [
    "####### HEAT INDEX EQUATION: based on temperature and humidity\n",
    "####### math equation technique\n",
    "df = heatfeatures.heat_index_f(df, 'Temperature(F)', 'Humidity(%)')"
   ]
  },
  {
   "cell_type": "code",
   "execution_count": 7,
   "metadata": {},
   "outputs": [
    {
     "data": {
      "text/html": [
       "<div>\n",
       "<style scoped>\n",
       "    .dataframe tbody tr th:only-of-type {\n",
       "        vertical-align: middle;\n",
       "    }\n",
       "\n",
       "    .dataframe tbody tr th {\n",
       "        vertical-align: top;\n",
       "    }\n",
       "\n",
       "    .dataframe thead th {\n",
       "        text-align: right;\n",
       "    }\n",
       "</style>\n",
       "<table border=\"1\" class=\"dataframe\">\n",
       "  <thead>\n",
       "    <tr style=\"text-align: right;\">\n",
       "      <th></th>\n",
       "      <th>Temperature(C)</th>\n",
       "      <th>Wind_Chill(C)</th>\n",
       "      <th>Heat_Index(C)</th>\n",
       "    </tr>\n",
       "  </thead>\n",
       "  <tbody>\n",
       "    <tr>\n",
       "      <th>0</th>\n",
       "      <td>7.222222</td>\n",
       "      <td>7.222222</td>\n",
       "      <td>40.432024</td>\n",
       "    </tr>\n",
       "    <tr>\n",
       "      <th>1</th>\n",
       "      <td>17.777778</td>\n",
       "      <td>17.777778</td>\n",
       "      <td>16.028889</td>\n",
       "    </tr>\n",
       "    <tr>\n",
       "      <th>2</th>\n",
       "      <td>8.333333</td>\n",
       "      <td>8.333333</td>\n",
       "      <td>38.177873</td>\n",
       "    </tr>\n",
       "    <tr>\n",
       "      <th>3</th>\n",
       "      <td>7.222222</td>\n",
       "      <td>7.222222</td>\n",
       "      <td>30.877047</td>\n",
       "    </tr>\n",
       "    <tr>\n",
       "      <th>4</th>\n",
       "      <td>18.888889</td>\n",
       "      <td>18.888889</td>\n",
       "      <td>17.930000</td>\n",
       "    </tr>\n",
       "  </tbody>\n",
       "</table>\n",
       "</div>"
      ],
      "text/plain": [
       "   Temperature(C)  Wind_Chill(C)  Heat_Index(C)\n",
       "0        7.222222       7.222222      40.432024\n",
       "1       17.777778      17.777778      16.028889\n",
       "2        8.333333       8.333333      38.177873\n",
       "3        7.222222       7.222222      30.877047\n",
       "4       18.888889      18.888889      17.930000"
      ]
     },
     "execution_count": 7,
     "metadata": {},
     "output_type": "execute_result"
    }
   ],
   "source": [
    "####### CONVERSION: we struggle to intrepret farenheit, so we will convert these to celsius\n",
    "####### conversion technique\n",
    "df = heatfeatures.temperature_conversion(df, ['Temperature(F)', 'Wind_Chill(F)', 'Heat_Index(F)'])\n",
    "df[['Temperature(C)', 'Wind_Chill(C)', 'Heat_Index(C)']].head()"
   ]
  },
  {
   "cell_type": "code",
   "execution_count": 8,
   "metadata": {},
   "outputs": [],
   "source": [
    "####### LENGTH OF ACCIDENT: difference between start time and end time\n",
    "####### difference technique\n",
    "df = timedata.time_type(df, 'Start_Time')\n",
    "df = timedata.time_type(df, 'End_Time')\n",
    "\n",
    "df = timefeatures.time_difference(df, 'End_Time', 'Start_Time')"
   ]
  },
  {
   "cell_type": "code",
   "execution_count": 9,
   "metadata": {},
   "outputs": [],
   "source": [
    "####### MONTH OF ACCIDENT: from start time\n",
    "####### extraction technique\n",
    "df = timefeatures.get_month(df, 'Start_Time')"
   ]
  },
  {
   "cell_type": "code",
   "execution_count": 10,
   "metadata": {},
   "outputs": [],
   "source": [
    "####### SUM ROADWAY FEATURES: sum all booleans concerning road features\n",
    "####### addition technique\n",
    "road_feature_colnames = ['Amenity', 'Bump', 'Crossing', 'Give_Way', 'Junction', \n",
    "                         'No_Exit', 'Railway', 'Roundabout', 'Station',\n",
    "                         'Stop', 'Traffic_Calming', 'Traffic_Signal', 'Turning_Loop']\n",
    "df = roadfeatures.road_feature_sum(df, road_feature_colnames)"
   ]
  },
  {
   "cell_type": "code",
   "execution_count": 11,
   "metadata": {},
   "outputs": [],
   "source": [
    "# standardize \n",
    "df = standardization.standardize(df, ['Temperature(C)', 'Wind_Chill(C)', 'Humidity(%)', 'Pressure(in)', 'Visibility(mi)', 'Precipitation(in)', 'Heat_Index(C)', 'Length_Time_Hours', 'Month_Start_Time', 'Road_Feature_Sum'])"
   ]
  },
  {
   "cell_type": "markdown",
   "metadata": {},
   "source": [
    "# Model"
   ]
  },
  {
   "cell_type": "code",
   "execution_count": 12,
   "metadata": {},
   "outputs": [],
   "source": [
    "features= [ 'Temperature(C)_standardized', 'Wind_Chill(C)_standardized',\n",
    "            'Humidity(%)_standardized', 'Pressure(in)_standardized',\n",
    "            'Visibility(mi)_standardized', 'Precipitation(in)_standardized',\n",
    "            'Heat_Index(C)_standardized', 'Length_Time_Hours_standardized',\n",
    "            'Month_Start_Time_standardized', 'Road_Feature_Sum_standardized',\n",
    "\n",
    "            'Sunrise_Sunset_Night', 'Civil_Twilight_Night', 'Nautical_Twilight_Night', 'Astronomical_Twilight_Night',\n",
    "            'Region_midwest', 'Region_northeast', 'Region_southeast', 'Region_southwest', 'Region_west', \n",
    "            'Wind_Speed(mph)bin_low', 'Wind_Speed(mph)bin_medium', 'Wind_Speed(mph)bin_high']\n",
    "\n",
    "target= 'Severity'\n",
    "\n",
    "# create subset of data with only relevant features\n",
    "df = df[features + [target]] \n",
    "\n",
    "# train/test split\n",
    "tr, te = splitting.split_data(df)"
   ]
  },
  {
   "cell_type": "markdown",
   "metadata": {},
   "source": [
    "# Hyperparameter Tuning"
   ]
  },
  {
   "cell_type": "code",
   "execution_count": 13,
   "metadata": {},
   "outputs": [],
   "source": [
    "rf_model = rfmodel.Model(target=target, feature=features, train=tr, test=te)"
   ]
  },
  {
   "cell_type": "code",
   "execution_count": 14,
   "metadata": {},
   "outputs": [
    {
     "name": "stdout",
     "output_type": "stream",
     "text": [
      "Fitting 3 folds for each of 20 candidates, totalling 60 fits\n"
     ]
    },
    {
     "name": "stdout",
     "output_type": "stream",
     "text": [
      "[CV] END bootstrap=True, max_depth=90, max_features=sqrt, min_samples_leaf=2, min_samples_split=5, n_estimators=5; total time=   1.5s\n",
      "[CV] END bootstrap=True, max_depth=90, max_features=sqrt, min_samples_leaf=2, min_samples_split=5, n_estimators=5; total time=   1.4s\n",
      "[CV] END bootstrap=True, max_depth=90, max_features=sqrt, min_samples_leaf=2, min_samples_split=5, n_estimators=5; total time=   2.0s\n",
      "[CV] END bootstrap=False, max_depth=50, max_features=sqrt, min_samples_leaf=2, min_samples_split=2, n_estimators=20; total time=   8.3s\n",
      "[CV] END bootstrap=False, max_depth=50, max_features=sqrt, min_samples_leaf=2, min_samples_split=2, n_estimators=20; total time=   8.5s\n",
      "[CV] END bootstrap=False, max_depth=50, max_features=sqrt, min_samples_leaf=2, min_samples_split=2, n_estimators=20; total time=   8.9s\n",
      "[CV] END bootstrap=False, max_depth=90, max_features=sqrt, min_samples_leaf=2, min_samples_split=10, n_estimators=50; total time=  22.9s\n",
      "[CV] END bootstrap=False, max_depth=90, max_features=sqrt, min_samples_leaf=2, min_samples_split=10, n_estimators=50; total time=  23.0s\n",
      "[CV] END bootstrap=True, max_depth=90, max_features=log2, min_samples_leaf=2, min_samples_split=10, n_estimators=100; total time=  31.4s\n",
      "[CV] END bootstrap=False, max_depth=90, max_features=sqrt, min_samples_leaf=2, min_samples_split=10, n_estimators=50; total time=  23.3s\n",
      "[CV] END bootstrap=True, max_depth=90, max_features=log2, min_samples_leaf=2, min_samples_split=10, n_estimators=100; total time=  31.8s\n",
      "[CV] END bootstrap=True, max_depth=90, max_features=log2, min_samples_leaf=2, min_samples_split=10, n_estimators=100; total time=  32.0s\n",
      "[CV] END bootstrap=True, max_depth=10, max_features=log2, min_samples_leaf=2, min_samples_split=10, n_estimators=100; total time=  15.5s\n",
      "[CV] END bootstrap=True, max_depth=10, max_features=log2, min_samples_leaf=2, min_samples_split=10, n_estimators=100; total time=  15.9s\n",
      "[CV] END bootstrap=False, max_depth=10, max_features=sqrt, min_samples_leaf=4, min_samples_split=5, n_estimators=100; total time=  21.5s\n",
      "[CV] END bootstrap=True, max_depth=None, max_features=sqrt, min_samples_leaf=2, min_samples_split=5, n_estimators=5; total time=   0.9s\n",
      "[CV] END bootstrap=True, max_depth=None, max_features=sqrt, min_samples_leaf=2, min_samples_split=5, n_estimators=5; total time=   0.9s\n",
      "[CV] END bootstrap=True, max_depth=None, max_features=sqrt, min_samples_leaf=2, min_samples_split=5, n_estimators=5; total time=   1.3s\n",
      "[CV] END bootstrap=False, max_depth=20, max_features=log2, min_samples_leaf=4, min_samples_split=5, n_estimators=5; total time=   1.7s\n",
      "[CV] END bootstrap=False, max_depth=10, max_features=sqrt, min_samples_leaf=4, min_samples_split=5, n_estimators=100; total time=  19.3s\n",
      "[CV] END bootstrap=False, max_depth=10, max_features=sqrt, min_samples_leaf=4, min_samples_split=5, n_estimators=100; total time=  20.2s\n",
      "[CV] END bootstrap=False, max_depth=20, max_features=log2, min_samples_leaf=4, min_samples_split=5, n_estimators=5; total time=   1.7s\n",
      "[CV] END bootstrap=False, max_depth=20, max_features=log2, min_samples_leaf=4, min_samples_split=5, n_estimators=5; total time=   1.8s\n",
      "[CV] END bootstrap=True, max_depth=110, max_features=sqrt, min_samples_leaf=1, min_samples_split=10, n_estimators=5; total time=   1.3s\n",
      "[CV] END bootstrap=True, max_depth=110, max_features=sqrt, min_samples_leaf=1, min_samples_split=10, n_estimators=5; total time=   1.4s\n",
      "[CV] END bootstrap=True, max_depth=110, max_features=sqrt, min_samples_leaf=1, min_samples_split=10, n_estimators=5; total time=   1.5s\n",
      "[CV] END bootstrap=False, max_depth=50, max_features=log2, min_samples_leaf=2, min_samples_split=10, n_estimators=5; total time=   1.8s\n",
      "[CV] END bootstrap=False, max_depth=50, max_features=log2, min_samples_leaf=2, min_samples_split=10, n_estimators=5; total time=   1.6s\n",
      "[CV] END bootstrap=False, max_depth=60, max_features=sqrt, min_samples_leaf=1, min_samples_split=2, n_estimators=100; total time=  48.1s\n",
      "[CV] END bootstrap=False, max_depth=60, max_features=sqrt, min_samples_leaf=1, min_samples_split=2, n_estimators=100; total time=  50.1s\n",
      "[CV] END bootstrap=False, max_depth=50, max_features=log2, min_samples_leaf=2, min_samples_split=10, n_estimators=5; total time=   2.0s\n",
      "[CV] END bootstrap=True, max_depth=50, max_features=sqrt, min_samples_leaf=2, min_samples_split=10, n_estimators=5; total time=   1.4s\n",
      "[CV] END bootstrap=False, max_depth=90, max_features=sqrt, min_samples_leaf=1, min_samples_split=5, n_estimators=20; total time=   7.1s\n",
      "[CV] END bootstrap=True, max_depth=50, max_features=sqrt, min_samples_leaf=2, min_samples_split=10, n_estimators=5; total time=   1.3s\n",
      "[CV] END bootstrap=True, max_depth=50, max_features=sqrt, min_samples_leaf=2, min_samples_split=10, n_estimators=5; total time=   1.5s\n",
      "[CV] END bootstrap=False, max_depth=90, max_features=sqrt, min_samples_leaf=1, min_samples_split=5, n_estimators=20; total time=   7.2s\n",
      "[CV] END bootstrap=False, max_depth=90, max_features=sqrt, min_samples_leaf=1, min_samples_split=5, n_estimators=20; total time=   8.0s\n",
      "[CV] END bootstrap=True, max_depth=10, max_features=log2, min_samples_leaf=2, min_samples_split=10, n_estimators=100; total time=  14.6s\n",
      "[CV] END bootstrap=True, max_depth=60, max_features=sqrt, min_samples_leaf=2, min_samples_split=5, n_estimators=20; total time=   5.4s\n",
      "[CV] END bootstrap=True, max_depth=60, max_features=sqrt, min_samples_leaf=2, min_samples_split=5, n_estimators=20; total time=   5.3s\n",
      "[CV] END bootstrap=True, max_depth=60, max_features=sqrt, min_samples_leaf=2, min_samples_split=5, n_estimators=20; total time=   4.9s\n",
      "[CV] END bootstrap=False, max_depth=60, max_features=sqrt, min_samples_leaf=1, min_samples_split=2, n_estimators=100; total time=  45.1s\n"
     ]
    },
    {
     "name": "stderr",
     "output_type": "stream",
     "text": [
      "/Users/maelys/Desktop/bseenv/lib/python3.8/site-packages/joblib/externals/loky/process_executor.py:752: UserWarning: A worker stopped while some jobs were given to the executor. This can be caused by a too short worker timeout or by a memory leak.\n",
      "  warnings.warn(\n"
     ]
    },
    {
     "name": "stdout",
     "output_type": "stream",
     "text": [
      "[CV] END bootstrap=True, max_depth=80, max_features=log2, min_samples_leaf=4, min_samples_split=2, n_estimators=20; total time=   4.9s\n",
      "[CV] END bootstrap=True, max_depth=70, max_features=sqrt, min_samples_leaf=4, min_samples_split=2, n_estimators=50; total time=  10.2s\n",
      "[CV] END bootstrap=True, max_depth=70, max_features=sqrt, min_samples_leaf=4, min_samples_split=2, n_estimators=50; total time=  10.5s\n",
      "[CV] END bootstrap=True, max_depth=70, max_features=sqrt, min_samples_leaf=4, min_samples_split=2, n_estimators=50; total time=  10.5s\n",
      "[CV] END bootstrap=True, max_depth=50, max_features=log2, min_samples_leaf=1, min_samples_split=10, n_estimators=50; total time=  10.2s\n",
      "[CV] END bootstrap=True, max_depth=80, max_features=log2, min_samples_leaf=4, min_samples_split=2, n_estimators=20; total time=   2.9s\n",
      "[CV] END bootstrap=True, max_depth=80, max_features=log2, min_samples_leaf=4, min_samples_split=2, n_estimators=20; total time=   3.0s\n",
      "[CV] END bootstrap=True, max_depth=50, max_features=log2, min_samples_leaf=1, min_samples_split=10, n_estimators=50; total time=   9.5s\n",
      "[CV] END bootstrap=True, max_depth=50, max_features=log2, min_samples_leaf=1, min_samples_split=10, n_estimators=50; total time=  10.2s\n",
      "[CV] END bootstrap=False, max_depth=110, max_features=sqrt, min_samples_leaf=4, min_samples_split=5, n_estimators=20; total time=   5.3s\n",
      "[CV] END bootstrap=False, max_depth=110, max_features=sqrt, min_samples_leaf=4, min_samples_split=5, n_estimators=20; total time=   5.5s\n",
      "[CV] END bootstrap=False, max_depth=110, max_features=sqrt, min_samples_leaf=4, min_samples_split=5, n_estimators=20; total time=   6.6s\n",
      "[CV] END bootstrap=False, max_depth=50, max_features=sqrt, min_samples_leaf=1, min_samples_split=2, n_estimators=50; total time=  14.4s\n",
      "[CV] END bootstrap=False, max_depth=50, max_features=sqrt, min_samples_leaf=1, min_samples_split=2, n_estimators=50; total time=  14.4s\n",
      "[CV] END bootstrap=False, max_depth=50, max_features=sqrt, min_samples_leaf=1, min_samples_split=2, n_estimators=50; total time=  14.4s\n",
      "[CV] END bootstrap=False, max_depth=90, max_features=sqrt, min_samples_leaf=4, min_samples_split=5, n_estimators=100; total time=  19.5s\n",
      "[CV] END bootstrap=False, max_depth=90, max_features=sqrt, min_samples_leaf=4, min_samples_split=5, n_estimators=100; total time=  18.6s\n",
      "[CV] END bootstrap=False, max_depth=90, max_features=sqrt, min_samples_leaf=4, min_samples_split=5, n_estimators=100; total time=  18.0s\n"
     ]
    }
   ],
   "source": [
    "best_params = rf_model.randomized_param_tuning() # takes 1min5secs now"
   ]
  },
  {
   "cell_type": "code",
   "execution_count": 15,
   "metadata": {},
   "outputs": [
    {
     "data": {
      "text/plain": [
       "{'n_estimators': 100,\n",
       " 'min_samples_split': 5,\n",
       " 'min_samples_leaf': 4,\n",
       " 'max_features': 'sqrt',\n",
       " 'max_depth': 90,\n",
       " 'bootstrap': False}"
      ]
     },
     "execution_count": 15,
     "metadata": {},
     "output_type": "execute_result"
    }
   ],
   "source": [
    "best_params"
   ]
  },
  {
   "cell_type": "code",
   "execution_count": 16,
   "metadata": {},
   "outputs": [],
   "source": [
    "best_model = rfmodel.Model(target=target, feature=features, train=tr, test=te, params=best_params)"
   ]
  },
  {
   "cell_type": "code",
   "execution_count": 17,
   "metadata": {},
   "outputs": [],
   "source": [
    "# train model and make test predictions\n",
    "tr, te = best_model.model_predictions()"
   ]
  },
  {
   "cell_type": "code",
   "execution_count": 18,
   "metadata": {},
   "outputs": [
    {
     "data": {
      "text/html": [
       "<div>\n",
       "<style scoped>\n",
       "    .dataframe tbody tr th:only-of-type {\n",
       "        vertical-align: middle;\n",
       "    }\n",
       "\n",
       "    .dataframe tbody tr th {\n",
       "        vertical-align: top;\n",
       "    }\n",
       "\n",
       "    .dataframe thead th {\n",
       "        text-align: right;\n",
       "    }\n",
       "</style>\n",
       "<table border=\"1\" class=\"dataframe\">\n",
       "  <thead>\n",
       "    <tr style=\"text-align: right;\">\n",
       "      <th></th>\n",
       "      <th>Temperature(C)_standardized</th>\n",
       "      <th>Wind_Chill(C)_standardized</th>\n",
       "      <th>Humidity(%)_standardized</th>\n",
       "      <th>Pressure(in)_standardized</th>\n",
       "      <th>Visibility(mi)_standardized</th>\n",
       "      <th>Precipitation(in)_standardized</th>\n",
       "      <th>Heat_Index(C)_standardized</th>\n",
       "      <th>Length_Time_Hours_standardized</th>\n",
       "      <th>Month_Start_Time_standardized</th>\n",
       "      <th>Road_Feature_Sum_standardized</th>\n",
       "      <th>...</th>\n",
       "      <th>Region_southwest</th>\n",
       "      <th>Region_west</th>\n",
       "      <th>Wind_Speed(mph)bin_low</th>\n",
       "      <th>Wind_Speed(mph)bin_medium</th>\n",
       "      <th>Wind_Speed(mph)bin_high</th>\n",
       "      <th>Severity</th>\n",
       "      <th>pred_1</th>\n",
       "      <th>pred_2</th>\n",
       "      <th>pred_3</th>\n",
       "      <th>pred_4</th>\n",
       "    </tr>\n",
       "  </thead>\n",
       "  <tbody>\n",
       "    <tr>\n",
       "      <th>56468</th>\n",
       "      <td>1.394883</td>\n",
       "      <td>1.316027</td>\n",
       "      <td>-1.435991</td>\n",
       "      <td>0.407122</td>\n",
       "      <td>0.359975</td>\n",
       "      <td>-0.100481</td>\n",
       "      <td>-0.042919</td>\n",
       "      <td>-0.034843</td>\n",
       "      <td>0.862084</td>\n",
       "      <td>-0.621756</td>\n",
       "      <td>...</td>\n",
       "      <td>False</td>\n",
       "      <td>True</td>\n",
       "      <td>False</td>\n",
       "      <td>True</td>\n",
       "      <td>False</td>\n",
       "      <td>2</td>\n",
       "      <td>0.044949</td>\n",
       "      <td>0.729541</td>\n",
       "      <td>0.142281</td>\n",
       "      <td>0.083230</td>\n",
       "    </tr>\n",
       "    <tr>\n",
       "      <th>20376</th>\n",
       "      <td>1.068503</td>\n",
       "      <td>1.020465</td>\n",
       "      <td>0.358434</td>\n",
       "      <td>0.618252</td>\n",
       "      <td>0.359975</td>\n",
       "      <td>-0.100481</td>\n",
       "      <td>0.048863</td>\n",
       "      <td>-0.038481</td>\n",
       "      <td>0.216256</td>\n",
       "      <td>-0.621756</td>\n",
       "      <td>...</td>\n",
       "      <td>False</td>\n",
       "      <td>False</td>\n",
       "      <td>True</td>\n",
       "      <td>False</td>\n",
       "      <td>False</td>\n",
       "      <td>1</td>\n",
       "      <td>0.724315</td>\n",
       "      <td>0.089480</td>\n",
       "      <td>0.116490</td>\n",
       "      <td>0.069715</td>\n",
       "    </tr>\n",
       "    <tr>\n",
       "      <th>76030</th>\n",
       "      <td>1.068503</td>\n",
       "      <td>1.020465</td>\n",
       "      <td>-2.020222</td>\n",
       "      <td>-4.111056</td>\n",
       "      <td>0.359975</td>\n",
       "      <td>-0.100481</td>\n",
       "      <td>-0.217880</td>\n",
       "      <td>-0.035359</td>\n",
       "      <td>0.539170</td>\n",
       "      <td>-0.621756</td>\n",
       "      <td>...</td>\n",
       "      <td>False</td>\n",
       "      <td>True</td>\n",
       "      <td>False</td>\n",
       "      <td>False</td>\n",
       "      <td>True</td>\n",
       "      <td>2</td>\n",
       "      <td>0.053452</td>\n",
       "      <td>0.302661</td>\n",
       "      <td>0.331392</td>\n",
       "      <td>0.312496</td>\n",
       "    </tr>\n",
       "    <tr>\n",
       "      <th>25117</th>\n",
       "      <td>-1.700291</td>\n",
       "      <td>-2.073087</td>\n",
       "      <td>1.109589</td>\n",
       "      <td>0.626697</td>\n",
       "      <td>-2.948982</td>\n",
       "      <td>0.814399</td>\n",
       "      <td>1.433887</td>\n",
       "      <td>-0.019480</td>\n",
       "      <td>-0.752486</td>\n",
       "      <td>-0.621756</td>\n",
       "      <td>...</td>\n",
       "      <td>False</td>\n",
       "      <td>False</td>\n",
       "      <td>False</td>\n",
       "      <td>False</td>\n",
       "      <td>True</td>\n",
       "      <td>4</td>\n",
       "      <td>0.001429</td>\n",
       "      <td>0.149942</td>\n",
       "      <td>0.096808</td>\n",
       "      <td>0.751821</td>\n",
       "    </tr>\n",
       "    <tr>\n",
       "      <th>52682</th>\n",
       "      <td>0.415742</td>\n",
       "      <td>0.429340</td>\n",
       "      <td>-0.434451</td>\n",
       "      <td>0.567581</td>\n",
       "      <td>0.359975</td>\n",
       "      <td>-0.100481</td>\n",
       "      <td>-0.460632</td>\n",
       "      <td>-0.030549</td>\n",
       "      <td>-0.106658</td>\n",
       "      <td>-0.621756</td>\n",
       "      <td>...</td>\n",
       "      <td>False</td>\n",
       "      <td>True</td>\n",
       "      <td>False</td>\n",
       "      <td>True</td>\n",
       "      <td>False</td>\n",
       "      <td>4</td>\n",
       "      <td>0.011484</td>\n",
       "      <td>0.276815</td>\n",
       "      <td>0.094989</td>\n",
       "      <td>0.616712</td>\n",
       "    </tr>\n",
       "  </tbody>\n",
       "</table>\n",
       "<p>5 rows × 27 columns</p>\n",
       "</div>"
      ],
      "text/plain": [
       "       Temperature(C)_standardized  Wind_Chill(C)_standardized  \\\n",
       "56468                     1.394883                    1.316027   \n",
       "20376                     1.068503                    1.020465   \n",
       "76030                     1.068503                    1.020465   \n",
       "25117                    -1.700291                   -2.073087   \n",
       "52682                     0.415742                    0.429340   \n",
       "\n",
       "       Humidity(%)_standardized  Pressure(in)_standardized  \\\n",
       "56468                 -1.435991                   0.407122   \n",
       "20376                  0.358434                   0.618252   \n",
       "76030                 -2.020222                  -4.111056   \n",
       "25117                  1.109589                   0.626697   \n",
       "52682                 -0.434451                   0.567581   \n",
       "\n",
       "       Visibility(mi)_standardized  Precipitation(in)_standardized  \\\n",
       "56468                     0.359975                       -0.100481   \n",
       "20376                     0.359975                       -0.100481   \n",
       "76030                     0.359975                       -0.100481   \n",
       "25117                    -2.948982                        0.814399   \n",
       "52682                     0.359975                       -0.100481   \n",
       "\n",
       "       Heat_Index(C)_standardized  Length_Time_Hours_standardized  \\\n",
       "56468                   -0.042919                       -0.034843   \n",
       "20376                    0.048863                       -0.038481   \n",
       "76030                   -0.217880                       -0.035359   \n",
       "25117                    1.433887                       -0.019480   \n",
       "52682                   -0.460632                       -0.030549   \n",
       "\n",
       "       Month_Start_Time_standardized  Road_Feature_Sum_standardized  ...  \\\n",
       "56468                       0.862084                      -0.621756  ...   \n",
       "20376                       0.216256                      -0.621756  ...   \n",
       "76030                       0.539170                      -0.621756  ...   \n",
       "25117                      -0.752486                      -0.621756  ...   \n",
       "52682                      -0.106658                      -0.621756  ...   \n",
       "\n",
       "       Region_southwest  Region_west  Wind_Speed(mph)bin_low  \\\n",
       "56468             False         True                   False   \n",
       "20376             False        False                    True   \n",
       "76030             False         True                   False   \n",
       "25117             False        False                   False   \n",
       "52682             False         True                   False   \n",
       "\n",
       "       Wind_Speed(mph)bin_medium  Wind_Speed(mph)bin_high  Severity    pred_1  \\\n",
       "56468                       True                    False         2  0.044949   \n",
       "20376                      False                    False         1  0.724315   \n",
       "76030                      False                     True         2  0.053452   \n",
       "25117                      False                     True         4  0.001429   \n",
       "52682                       True                    False         4  0.011484   \n",
       "\n",
       "         pred_2    pred_3    pred_4  \n",
       "56468  0.729541  0.142281  0.083230  \n",
       "20376  0.089480  0.116490  0.069715  \n",
       "76030  0.302661  0.331392  0.312496  \n",
       "25117  0.149942  0.096808  0.751821  \n",
       "52682  0.276815  0.094989  0.616712  \n",
       "\n",
       "[5 rows x 27 columns]"
      ]
     },
     "execution_count": 18,
     "metadata": {},
     "output_type": "execute_result"
    }
   ],
   "source": [
    "te.head()"
   ]
  },
  {
   "cell_type": "markdown",
   "metadata": {},
   "source": [
    "# Performance Evaluation"
   ]
  },
  {
   "cell_type": "code",
   "execution_count": 19,
   "metadata": {},
   "outputs": [
    {
     "name": "stdout",
     "output_type": "stream",
     "text": [
      "F1 Metrics:\n"
     ]
    },
    {
     "data": {
      "text/plain": [
       "{'f1 score train category 1': 0.9282524680109734,\n",
       " 'f1 score train category 2': 0.9161921992231149,\n",
       " 'f1 score train category 3': 0.8721573971552679,\n",
       " 'f1 score train category 4': 0.9195066637671253,\n",
       " 'f1 score test category 1': 0.8117986047922354,\n",
       " 'f1 score test category 2': 0.5713971397139713,\n",
       " 'f1 score test category 3': 0.463646328096456,\n",
       " 'f1 score test category 4': 0.5862326043737573}"
      ]
     },
     "execution_count": 19,
     "metadata": {},
     "output_type": "execute_result"
    }
   ],
   "source": [
    "f1_metric = metrics.F1_Score(target=target, feature=features, train=tr, test=te, model=best_model.model)\n",
    "f1_result = f1_metric.calculate_metric()\n",
    "print(\"F1 Metrics:\")\n",
    "f1_result"
   ]
  },
  {
   "cell_type": "code",
   "execution_count": 20,
   "metadata": {},
   "outputs": [
    {
     "name": "stdout",
     "output_type": "stream",
     "text": [
      "Confusion matrices:\n"
     ]
    },
    {
     "data": {
      "image/png": "[encoded data removed]",
      "text/plain": [
       "<Figure size 640x480 with 2 Axes>"
      ]
     },
     "metadata": {},
     "output_type": "display_data"
    },
    {
     "data": {
      "image/png": "[encoded data removed]",
      "text/plain": [
       "<Figure size 640x480 with 2 Axes>"
      ]
     },
     "metadata": {},
     "output_type": "display_data"
    }
   ],
   "source": [
    "cm = metrics.ConfusionMatrix(target=target, feature=features, train=tr, test=te, model=best_model.model)\n",
    "confusion_matrices = cm.calculate_metric()\n",
    "print(\"Confusion matrices:\")\n",
    "cm.cm_display()\n"
   ]
  }
 ],
 "metadata": {
  "kernelspec": {
   "display_name": "Python 3",
   "language": "python",
   "name": "python3"
  },
  "language_info": {
   "codemirror_mode": {
    "name": "ipython",
    "version": 3
   },
   "file_extension": ".py",
   "mimetype": "text/x-python",
   "name": "python",
   "nbconvert_exporter": "python",
   "pygments_lexer": "ipython3",
   "version": "3.8.17"
  }
 },
 "nbformat": 4,
 "nbformat_minor": 2
}
